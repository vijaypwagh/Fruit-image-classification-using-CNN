{
 "cells": [
  {
   "cell_type": "code",
   "execution_count": 1,
   "id": "6b736cff",
   "metadata": {},
   "outputs": [],
   "source": [
    "import tensorflow as tf\n"
   ]
  },
  {
   "cell_type": "code",
   "execution_count": 2,
   "id": "5e27635f",
   "metadata": {},
   "outputs": [],
   "source": [
    "# import the libraries as shown below\n",
    "import pandas as pd\n",
    "import numpy as np\n",
    "from tensorflow.keras.layers import Input, Lambda, Dense, Flatten,Dropout,Activation\n",
    "from tensorflow.keras.layers import Conv2D,MaxPool2D,GlobalAveragePooling2D,BatchNormalization\n",
    "from tensorflow.keras import backend as k \n",
    "from tensorflow.keras.preprocessing import image\n",
    "from tensorflow.keras.preprocessing.image import ImageDataGenerator,load_img\n",
    "from tensorflow.keras.models import Sequential\n",
    "from tensorflow.keras.models import Model\n",
    "import numpy as np\n",
    "from glob import glob\n",
    "from tensorflow.keras.optimizers import Adam"
   ]
  },
  {
   "cell_type": "code",
   "execution_count": 3,
   "id": "8b0b9bf4",
   "metadata": {},
   "outputs": [],
   "source": [
    "# resize all the images\n",
    "IMAGE_SIZE=[150,150]\n",
    "train_path='D:\\datasets\\Masstech\\diet project\\dataset\\AUG - Copy\\train'\n",
    "test_path='D:\\datasets\\Masstech\\diet project\\dataset\\AUG - Copy\\test'"
   ]
  },
  {
   "cell_type": "code",
   "execution_count": 4,
   "id": "9707f4de",
   "metadata": {},
   "outputs": [
    {
     "name": "stdout",
     "output_type": "stream",
     "text": [
      "57\n",
      "56\n"
     ]
    }
   ],
   "source": [
    "print(len(train_path))\n",
    "print(len(test_path))"
   ]
  },
  {
   "cell_type": "code",
   "execution_count": 5,
   "id": "31f9c5a9",
   "metadata": {},
   "outputs": [
    {
     "name": "stderr",
     "output_type": "stream",
     "text": [
      "C:\\Users\\VPW\\anaconda3\\envs\\tf\\lib\\site-packages\\tensorflow\\python\\keras\\optimizer_v2\\optimizer_v2.py:375: UserWarning: The `lr` argument is deprecated, use `learning_rate` instead.\n",
      "  \"The `lr` argument is deprecated, use `learning_rate` instead.\")\n"
     ]
    }
   ],
   "source": [
    "from sklearn.metrics import confusion_matrix\n",
    "import itertools\n",
    "\n",
    "\n",
    "model=Sequential()\n",
    "model.add(Conv2D(filters=8,kernel_size=(3,3),padding=\"Same\",activation=\"relu\",input_shape=(150,150,3)))\n",
    "model.add(MaxPool2D(pool_size=(2,2)))\n",
    "model.add(Dropout(0.35))\n",
    "\n",
    "model.add(Conv2D(filters=16,kernel_size=(3,3),padding=\"Same\",activation=\"relu\"))\n",
    "model.add(MaxPool2D(pool_size=(2,2),strides=(2,2)))\n",
    "model.add(Dropout(0.35))\n",
    "\n",
    "model.add(Conv2D(filters=32,kernel_size=(3,3),padding=\"Same\",activation=\"relu\"))\n",
    "model.add(MaxPool2D(pool_size=(2,2),strides=(2,2)))\n",
    "model.add(Dropout(0.35))\n",
    "model.add(Flatten())\n",
    "model.add(Dense(512,activation=\"relu\"))\n",
    "model.add(Dropout(0.5))\n",
    "model.add(Dense(9,activation=\"softmax\"))\n",
    "#defining optimizer\n",
    "optimizer=Adam(lr=0.001,beta_1=0.9,beta_2=0.999)\n",
    "#compile the model\n",
    "model.compile(optimizer=optimizer,loss=\"categorical_crossentropy\",metrics=[\"accuracy\"])\n",
    "\n",
    "# epochs=10\n",
    "# batch_size=18"
   ]
  },
  {
   "cell_type": "code",
   "execution_count": 6,
   "id": "e407d56c",
   "metadata": {},
   "outputs": [],
   "source": [
    "# # import inception V3\n",
    "# # we will use imagenet weights here\n",
    "# inception=InceptionV3(input_shape=IMAGE_SIZE+[3],weights='imagenet',include_top=False)"
   ]
  },
  {
   "cell_type": "code",
   "execution_count": 7,
   "id": "78ca9279",
   "metadata": {},
   "outputs": [],
   "source": [
    "# #dont training withexisting weights coz we are using transfer learning technique\n",
    "# for layer in inception.layers:\n",
    "#     layer.trainable=False"
   ]
  },
  {
   "cell_type": "code",
   "execution_count": 8,
   "id": "d57c80eb",
   "metadata": {},
   "outputs": [],
   "source": [
    "import os\n",
    "os.chdir('D:\\datasets\\Masstech\\diet project\\dataset')"
   ]
  },
  {
   "cell_type": "code",
   "execution_count": 9,
   "id": "512a4f19",
   "metadata": {},
   "outputs": [],
   "source": [
    "# useful for getting number of output classses\n",
    "folders = glob('AUG - Copy/train/*')"
   ]
  },
  {
   "cell_type": "code",
   "execution_count": 10,
   "id": "d7341858",
   "metadata": {},
   "outputs": [
    {
     "data": {
      "text/plain": [
       "9"
      ]
     },
     "execution_count": 10,
     "metadata": {},
     "output_type": "execute_result"
    }
   ],
   "source": [
    "len(folders)"
   ]
  },
  {
   "cell_type": "code",
   "execution_count": 11,
   "id": "f332c322",
   "metadata": {},
   "outputs": [],
   "source": [
    "# x=Flatten()(inception.output)\n",
    "# prediction=Dense(len(folders),activation='softmax')(x)\n",
    "# model=Model(inputs= inception.input, outputs=prediction)"
   ]
  },
  {
   "cell_type": "code",
   "execution_count": 12,
   "id": "597d9c6f",
   "metadata": {},
   "outputs": [
    {
     "name": "stdout",
     "output_type": "stream",
     "text": [
      "Model: \"sequential\"\n",
      "_________________________________________________________________\n",
      "Layer (type)                 Output Shape              Param #   \n",
      "=================================================================\n",
      "conv2d (Conv2D)              (None, 150, 150, 8)       224       \n",
      "_________________________________________________________________\n",
      "max_pooling2d (MaxPooling2D) (None, 75, 75, 8)         0         \n",
      "_________________________________________________________________\n",
      "dropout (Dropout)            (None, 75, 75, 8)         0         \n",
      "_________________________________________________________________\n",
      "conv2d_1 (Conv2D)            (None, 75, 75, 16)        1168      \n",
      "_________________________________________________________________\n",
      "max_pooling2d_1 (MaxPooling2 (None, 37, 37, 16)        0         \n",
      "_________________________________________________________________\n",
      "dropout_1 (Dropout)          (None, 37, 37, 16)        0         \n",
      "_________________________________________________________________\n",
      "conv2d_2 (Conv2D)            (None, 37, 37, 32)        4640      \n",
      "_________________________________________________________________\n",
      "max_pooling2d_2 (MaxPooling2 (None, 18, 18, 32)        0         \n",
      "_________________________________________________________________\n",
      "dropout_2 (Dropout)          (None, 18, 18, 32)        0         \n",
      "_________________________________________________________________\n",
      "flatten (Flatten)            (None, 10368)             0         \n",
      "_________________________________________________________________\n",
      "dense (Dense)                (None, 512)               5308928   \n",
      "_________________________________________________________________\n",
      "dropout_3 (Dropout)          (None, 512)               0         \n",
      "_________________________________________________________________\n",
      "dense_1 (Dense)              (None, 9)                 4617      \n",
      "=================================================================\n",
      "Total params: 5,319,577\n",
      "Trainable params: 5,319,577\n",
      "Non-trainable params: 0\n",
      "_________________________________________________________________\n"
     ]
    }
   ],
   "source": [
    "model.summary()"
   ]
  },
  {
   "cell_type": "code",
   "execution_count": 13,
   "id": "1ad24857",
   "metadata": {},
   "outputs": [],
   "source": [
    "# #the model compiling\n",
    "# model.compile(\n",
    "#   loss='categorical_crossentropy',\n",
    "#   optimizer='adam',\n",
    "#   metrics=['accuracy']\n",
    "# )"
   ]
  },
  {
   "cell_type": "code",
   "execution_count": 14,
   "id": "31240ab4",
   "metadata": {},
   "outputs": [],
   "source": [
    "# Use the Image Data Generator to import the images from the dataset ## data augementation\n",
    "from tensorflow.keras.preprocessing.image import ImageDataGenerator\n",
    "\n",
    "train_datagen = ImageDataGenerator(rescale = 1./255,\n",
    "                                   shear_range = 0.2,\n",
    "                                   zoom_range = 0.2,\n",
    "                                   horizontal_flip = True)\n",
    "\n",
    "test_datagen = ImageDataGenerator(rescale = 1./255)"
   ]
  },
  {
   "cell_type": "code",
   "execution_count": 15,
   "id": "e309ecb5",
   "metadata": {},
   "outputs": [
    {
     "name": "stdout",
     "output_type": "stream",
     "text": [
      "Found 699 images belonging to 9 classes.\n"
     ]
    }
   ],
   "source": [
    "#training\n",
    "training_set = train_datagen.flow_from_directory('AUG - Copy/train',\n",
    "                                                 target_size = (150, 150),\n",
    "                                                 batch_size = 16,\n",
    "                                                 class_mode = 'categorical')"
   ]
  },
  {
   "cell_type": "code",
   "execution_count": 16,
   "id": "f68cafa6",
   "metadata": {},
   "outputs": [
    {
     "name": "stdout",
     "output_type": "stream",
     "text": [
      "Found 159 images belonging to 9 classes.\n"
     ]
    }
   ],
   "source": [
    "test_set = test_datagen.flow_from_directory('AUG - Copy/test',\n",
    "                                            target_size = (150, 150),\n",
    "                                            batch_size = 16,\n",
    "                                            class_mode = 'categorical')"
   ]
  },
  {
   "cell_type": "code",
   "execution_count": 17,
   "id": "e792fc60",
   "metadata": {
    "scrolled": false
   },
   "outputs": [
    {
     "name": "stderr",
     "output_type": "stream",
     "text": [
      "C:\\Users\\VPW\\anaconda3\\envs\\tf\\lib\\site-packages\\tensorflow\\python\\keras\\engine\\training.py:1940: UserWarning: `Model.fit_generator` is deprecated and will be removed in a future version. Please use `Model.fit`, which supports generators.\n",
      "  warnings.warn('`Model.fit_generator` is deprecated and '\n"
     ]
    },
    {
     "name": "stdout",
     "output_type": "stream",
     "text": [
      "Epoch 1/50\n",
      "44/44 [==============================] - 22s 488ms/step - loss: 2.4498 - accuracy: 0.1259 - val_loss: 2.1973 - val_accuracy: 0.1006\n",
      "Epoch 2/50\n",
      "44/44 [==============================] - 13s 304ms/step - loss: 2.1838 - accuracy: 0.1187 - val_loss: 2.1792 - val_accuracy: 0.1509\n",
      "Epoch 3/50\n",
      "44/44 [==============================] - 14s 323ms/step - loss: 2.1412 - accuracy: 0.1817 - val_loss: 2.1282 - val_accuracy: 0.1698\n",
      "Epoch 4/50\n",
      "44/44 [==============================] - 13s 299ms/step - loss: 1.9944 - accuracy: 0.2561 - val_loss: 1.9739 - val_accuracy: 0.3836\n",
      "Epoch 5/50\n",
      "44/44 [==============================] - 13s 294ms/step - loss: 1.7634 - accuracy: 0.2918 - val_loss: 1.7351 - val_accuracy: 0.3270\n",
      "Epoch 6/50\n",
      "44/44 [==============================] - 13s 297ms/step - loss: 1.6417 - accuracy: 0.3891 - val_loss: 1.6070 - val_accuracy: 0.4277\n",
      "Epoch 7/50\n",
      "44/44 [==============================] - 13s 304ms/step - loss: 1.4755 - accuracy: 0.4406 - val_loss: 1.4040 - val_accuracy: 0.4654\n",
      "Epoch 8/50\n",
      "44/44 [==============================] - 13s 297ms/step - loss: 1.3352 - accuracy: 0.4835 - val_loss: 1.3024 - val_accuracy: 0.5157\n",
      "Epoch 9/50\n",
      "44/44 [==============================] - 13s 290ms/step - loss: 1.2016 - accuracy: 0.5408 - val_loss: 1.1939 - val_accuracy: 0.5535\n",
      "Epoch 10/50\n",
      "44/44 [==============================] - 13s 288ms/step - loss: 1.1032 - accuracy: 0.5851 - val_loss: 1.1204 - val_accuracy: 0.6289\n",
      "Epoch 11/50\n",
      "44/44 [==============================] - 13s 290ms/step - loss: 1.0421 - accuracy: 0.6195 - val_loss: 1.0655 - val_accuracy: 0.6415\n",
      "Epoch 12/50\n",
      "44/44 [==============================] - 13s 291ms/step - loss: 1.0030 - accuracy: 0.6280 - val_loss: 0.9852 - val_accuracy: 0.6730\n",
      "Epoch 13/50\n",
      "44/44 [==============================] - 13s 292ms/step - loss: 0.9584 - accuracy: 0.6452 - val_loss: 0.8401 - val_accuracy: 0.6792\n",
      "Epoch 14/50\n",
      "44/44 [==============================] - 13s 288ms/step - loss: 0.8217 - accuracy: 0.7067 - val_loss: 0.8925 - val_accuracy: 0.6792\n",
      "Epoch 15/50\n",
      "44/44 [==============================] - 13s 288ms/step - loss: 0.7673 - accuracy: 0.7268 - val_loss: 0.7291 - val_accuracy: 0.7547\n",
      "Epoch 16/50\n",
      "44/44 [==============================] - 13s 288ms/step - loss: 0.8515 - accuracy: 0.6981 - val_loss: 0.8426 - val_accuracy: 0.7547\n",
      "Epoch 17/50\n",
      "44/44 [==============================] - 13s 291ms/step - loss: 0.6837 - accuracy: 0.7654 - val_loss: 0.7538 - val_accuracy: 0.7673\n",
      "Epoch 18/50\n",
      "44/44 [==============================] - 13s 290ms/step - loss: 0.6285 - accuracy: 0.7954 - val_loss: 0.6469 - val_accuracy: 0.8050\n",
      "Epoch 19/50\n",
      "44/44 [==============================] - 13s 293ms/step - loss: 0.6251 - accuracy: 0.7783 - val_loss: 0.6266 - val_accuracy: 0.8176\n",
      "Epoch 20/50\n",
      "44/44 [==============================] - 13s 293ms/step - loss: 0.5933 - accuracy: 0.7983 - val_loss: 0.7494 - val_accuracy: 0.7673\n",
      "Epoch 21/50\n",
      "44/44 [==============================] - 13s 294ms/step - loss: 0.5575 - accuracy: 0.7926 - val_loss: 0.5662 - val_accuracy: 0.8050\n",
      "Epoch 22/50\n",
      "44/44 [==============================] - 13s 291ms/step - loss: 0.5755 - accuracy: 0.7969 - val_loss: 0.5355 - val_accuracy: 0.8428\n",
      "Epoch 23/50\n",
      "44/44 [==============================] - 13s 300ms/step - loss: 0.5061 - accuracy: 0.8226 - val_loss: 0.4917 - val_accuracy: 0.8365\n",
      "Epoch 24/50\n",
      "44/44 [==============================] - 14s 322ms/step - loss: 0.4748 - accuracy: 0.8283 - val_loss: 0.4987 - val_accuracy: 0.8428\n",
      "Epoch 25/50\n",
      "44/44 [==============================] - 14s 312ms/step - loss: 0.4632 - accuracy: 0.8441 - val_loss: 0.5770 - val_accuracy: 0.7925\n",
      "Epoch 26/50\n",
      "44/44 [==============================] - 15s 331ms/step - loss: 0.3672 - accuracy: 0.8684 - val_loss: 0.5095 - val_accuracy: 0.8302\n",
      "Epoch 27/50\n",
      "44/44 [==============================] - 14s 324ms/step - loss: 0.3954 - accuracy: 0.8598 - val_loss: 0.4385 - val_accuracy: 0.8491\n",
      "Epoch 28/50\n",
      "44/44 [==============================] - 14s 308ms/step - loss: 0.3710 - accuracy: 0.8798 - val_loss: 0.3581 - val_accuracy: 0.8994\n",
      "Epoch 29/50\n",
      "44/44 [==============================] - 13s 299ms/step - loss: 0.3354 - accuracy: 0.8927 - val_loss: 0.3926 - val_accuracy: 0.8679\n",
      "Epoch 30/50\n",
      "44/44 [==============================] - 14s 318ms/step - loss: 0.4076 - accuracy: 0.8670 - val_loss: 0.4842 - val_accuracy: 0.8239\n",
      "Epoch 31/50\n",
      "44/44 [==============================] - 15s 340ms/step - loss: 0.3666 - accuracy: 0.8612 - val_loss: 0.2915 - val_accuracy: 0.9119\n",
      "Epoch 32/50\n",
      "44/44 [==============================] - 14s 323ms/step - loss: 0.3389 - accuracy: 0.8884 - val_loss: 0.3396 - val_accuracy: 0.8931\n",
      "Epoch 33/50\n",
      "44/44 [==============================] - 14s 315ms/step - loss: 0.2574 - accuracy: 0.9142 - val_loss: 0.2655 - val_accuracy: 0.8994\n",
      "Epoch 34/50\n",
      "44/44 [==============================] - 13s 301ms/step - loss: 0.2571 - accuracy: 0.9027 - val_loss: 0.2182 - val_accuracy: 0.9434\n",
      "Epoch 35/50\n",
      "44/44 [==============================] - 15s 329ms/step - loss: 0.2482 - accuracy: 0.9113 - val_loss: 0.2318 - val_accuracy: 0.9497\n",
      "Epoch 36/50\n",
      "44/44 [==============================] - 13s 289ms/step - loss: 0.2759 - accuracy: 0.9013 - val_loss: 0.2231 - val_accuracy: 0.9245\n",
      "Epoch 37/50\n",
      "44/44 [==============================] - 14s 308ms/step - loss: 0.2184 - accuracy: 0.9285 - val_loss: 0.2311 - val_accuracy: 0.9434\n",
      "Epoch 38/50\n",
      "44/44 [==============================] - 14s 307ms/step - loss: 0.2832 - accuracy: 0.9070 - val_loss: 0.2667 - val_accuracy: 0.9119\n",
      "Epoch 39/50\n",
      "44/44 [==============================] - 13s 291ms/step - loss: 0.2350 - accuracy: 0.9242 - val_loss: 0.2240 - val_accuracy: 0.9497\n",
      "Epoch 40/50\n",
      "44/44 [==============================] - 14s 318ms/step - loss: 0.1959 - accuracy: 0.9299 - val_loss: 0.1867 - val_accuracy: 0.9434\n",
      "Epoch 41/50\n",
      "44/44 [==============================] - 13s 299ms/step - loss: 0.2312 - accuracy: 0.9242 - val_loss: 0.2417 - val_accuracy: 0.9057\n",
      "Epoch 42/50\n",
      "44/44 [==============================] - 13s 295ms/step - loss: 0.2361 - accuracy: 0.9156 - val_loss: 0.1905 - val_accuracy: 0.9623\n",
      "Epoch 43/50\n",
      "44/44 [==============================] - 13s 296ms/step - loss: 0.2308 - accuracy: 0.9199 - val_loss: 0.2834 - val_accuracy: 0.9119\n",
      "Epoch 44/50\n",
      "44/44 [==============================] - 13s 299ms/step - loss: 0.1678 - accuracy: 0.9371 - val_loss: 0.2705 - val_accuracy: 0.9182\n",
      "Epoch 45/50\n",
      "44/44 [==============================] - 13s 292ms/step - loss: 0.2435 - accuracy: 0.9371 - val_loss: 0.1942 - val_accuracy: 0.9560\n",
      "Epoch 46/50\n",
      "44/44 [==============================] - 14s 314ms/step - loss: 0.2414 - accuracy: 0.9199 - val_loss: 0.1475 - val_accuracy: 0.9497\n",
      "Epoch 47/50\n",
      "44/44 [==============================] - 15s 347ms/step - loss: 0.2534 - accuracy: 0.9199 - val_loss: 0.1559 - val_accuracy: 0.9560\n",
      "Epoch 48/50\n",
      "44/44 [==============================] - 14s 304ms/step - loss: 0.2436 - accuracy: 0.9285 - val_loss: 0.2037 - val_accuracy: 0.9497\n",
      "Epoch 49/50\n",
      "44/44 [==============================] - 13s 299ms/step - loss: 0.1867 - accuracy: 0.9328 - val_loss: 0.1497 - val_accuracy: 0.9560\n",
      "Epoch 50/50\n",
      "44/44 [==============================] - 14s 306ms/step - loss: 0.1372 - accuracy: 0.9485 - val_loss: 0.1733 - val_accuracy: 0.9308\n"
     ]
    }
   ],
   "source": [
    "# fit the model\n",
    "# Run\n",
    "r = model.fit_generator(\n",
    "  training_set,\n",
    "  validation_data=test_set,\n",
    "  epochs=50,\n",
    "  steps_per_epoch=len(training_set),\n",
    "  validation_steps=len(test_set)\n",
    ")"
   ]
  },
  {
   "cell_type": "code",
   "execution_count": 18,
   "id": "2fbba2c5",
   "metadata": {},
   "outputs": [
    {
     "data": {
      "image/png": "[encoded data removed]",
      "text/plain": [
       "<Figure size 432x288 with 1 Axes>"
      ]
     },
     "metadata": {
      "needs_background": "light"
     },
     "output_type": "display_data"
    },
    {
     "data": {
      "image/png": "[encoded data removed]",
      "text/plain": [
       "<Figure size 432x288 with 1 Axes>"
      ]
     },
     "metadata": {
      "needs_background": "light"
     },
     "output_type": "display_data"
    }
   ],
   "source": [
    "# plot the loss\n",
    "import matplotlib.pyplot as plt\n",
    "plt.plot(r.history['loss'], label='train loss')\n",
    "plt.plot(r.history['val_loss'], label='val loss')\n",
    "plt.legend()\n",
    "plt.show()\n",
    "#plt.savefig('LossVal_loss')\n",
    "# acc = r.history['acc']\n",
    "\n",
    "# val_acc = r.history['val_acc']\n",
    "\n",
    "# plot the accuracy\n",
    "plt.plot(r.history['accuracy'], label='train acc')\n",
    "plt.plot(r.history['val_accuracy'], label='val acc')\n",
    "plt.legend()\n",
    "plt.show()\n",
    "#plt.savefig('AccVal_acc')"
   ]
  }
 ],
 "metadata": {
  "kernelspec": {
   "display_name": "Python 3",
   "language": "python",
   "name": "python3"
  },
  "language_info": {
   "codemirror_mode": {
    "name": "ipython",
    "version": 3
   },
   "file_extension": ".py",
   "mimetype": "text/x-python",
   "name": "python",
   "nbconvert_exporter": "python",
   "pygments_lexer": "ipython3",
   "version": "3.7.10"
  }
 },
 "nbformat": 4,
 "nbformat_minor": 5
}
